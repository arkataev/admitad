{
 "cells": [
  {
   "cell_type": "code",
   "execution_count": 5,
   "outputs": [],
   "source": [
    "import requests\n",
    "import pandas as pd"
   ],
   "metadata": {
    "collapsed": false,
    "pycharm": {
     "name": "#%%\n"
    }
   }
  },
  {
   "cell_type": "code",
   "execution_count": 6,
   "metadata": {},
   "outputs": [],
   "source": [
    "DATA_URL = \"https://downloader.disk.yandex.ru/disk/aef2aa4330747fa29567141d5e4ce1b8f9f3d680f4ae8047508428619430d03e/5e9dde3b/JdhhT8jvCMu_Pgugn6PhgikDN1Cl0gyob4EIPIlrJUuCBY5pV_cIfkKHe8ufmUwgSPrz6Q5GZ-5bc3hWDPazsg%3D%3D?uid=301383560&filename=do_10_products_20190924_185230.csv&disposition=attachment&hash=&limit=0&content_type=text%2Fplain&owner_uid=301383560&fsize=175856061&hid=3a2c438ebf3814aa05ee1ec6bc1649ab&media_type=spreadsheet&tknv=v2&etag=e5fc3320c27b0391270a8cfdd6a725ea\"\n",
    "PLOT_CONF = {'grid': False, 'figsize': (20,8), 'color': \"#86bf91\", 'zorder': 2}\n",
    "FILE_NAME = 'products.csv'"
   ]
  },
  {
   "cell_type": "code",
   "execution_count": null,
   "outputs": [],
   "source": [
    "with requests.get(DATA_URL, stream=True) as r:\n",
    "    r.raise_for_status()\n",
    "\n",
    "    with open(FILE_NAME, 'wb') as f:\n",
    "        for chunk in r.iter_content(chunk_size=8192):\n",
    "            if chunk:\n",
    "                f.write(chunk)\n",
    "                f.flush()"
   ],
   "metadata": {
    "collapsed": false,
    "pycharm": {
     "name": "#%%\n",
     "is_executing": true
    }
   }
  },
  {
   "cell_type": "code",
   "execution_count": null,
   "metadata": {
    "pycharm": {
     "is_executing": true
    }
   },
   "outputs": [],
   "source": [
    "df = pd.read_csv(FILE_NAME, sep=';')\n",
    "df['modified_time'] = pd.to_datetime(df['modified_time'], unit='s')"
   ]
  },
  {
   "cell_type": "markdown",
   "metadata": {},
   "source": [
    "# Data Overview"
   ]
  },
  {
   "cell_type": "markdown",
   "metadata": {},
   "source": [
    "### Rows Number"
   ]
  },
  {
   "cell_type": "code",
   "execution_count": null,
   "metadata": {
    "pycharm": {
     "is_executing": true
    }
   },
   "outputs": [],
   "source": [
    "len(df)"
   ]
  },
  {
   "cell_type": "markdown",
   "metadata": {},
   "source": [
    "### Columns"
   ]
  },
  {
   "cell_type": "code",
   "execution_count": null,
   "metadata": {
    "pycharm": {
     "is_executing": true
    }
   },
   "outputs": [],
   "source": [
    "', '.join(df.columns.sort_values())"
   ]
  },
  {
   "cell_type": "markdown",
   "metadata": {},
   "source": [
    " ### Categories Description\n",
    "\n",
    "General categories sorted by ascending price mean"
   ]
  },
  {
   "cell_type": "code",
   "execution_count": null,
   "metadata": {
    "pycharm": {
     "is_executing": true
    }
   },
   "outputs": [],
   "source": [
    "df_categories = pd.DataFrame(\n",
    "    {\n",
    "        'cat_name': name,\n",
    "        'cat_items': len(group),\n",
    "        'price_min': group['price'].min(),\n",
    "        'price_mean': group['price'].mean(),\n",
    "        'price_median': group['price'].median(),\n",
    "        'price_max': group['price'].max()\n",
    "    }\n",
    "    \n",
    "    for name, group in df.groupby('categoryId')\n",
    "    \n",
    ").sort_values('price_mean').set_index('cat_name')\n",
    "\n",
    "df_categories.at['Total', 'cat_items'] = df_categories['cat_items'].sum() # total sum of items\n",
    "\n",
    "df_categories"
   ]
  },
  {
   "cell_type": "markdown",
   "metadata": {},
   "source": [
    "### Overall Price Distribution "
   ]
  },
  {
   "cell_type": "code",
   "execution_count": null,
   "metadata": {
    "pycharm": {
     "is_executing": true
    }
   },
   "outputs": [],
   "source": [
    "_ = df['price'].hist(**PLOT_CONF, log=True, bins=20, rwidth=0.9 )"
   ]
  },
  {
   "cell_type": "markdown",
   "metadata": {},
   "source": [
    "### Overall Price Growth Rate\n",
    "Indicates that most of the price growth falls into first month of the year, whereas at the end of year price growth\n",
    "nearly zeroed."
   ]
  },
  {
   "cell_type": "code",
   "execution_count": null,
   "metadata": {
    "pycharm": {
     "is_executing": true
    }
   },
   "outputs": [],
   "source": [
    "price_df = pd.DataFrame()\n",
    "df_month_sample = df.set_index('modified_time').sort_index().resample('M').count()\n",
    "price_df['pgr'] = (df_month_sample['price'] - df_month_sample['oldprice']) / df_month_sample['oldprice']\n",
    "_ = price_df.dropna().plot(**PLOT_CONF)"
   ]
  },
  {
   "cell_type": "markdown",
   "metadata": {},
   "source": [
    "### Categories Price Correlation\n",
    "\n",
    "Highlights price correlation between product categories. According to data prices of categories like\n",
    " `furniture` / `beauty&health`, `Electrical equipment&materials` / `Clocks`  are positively correlated."
   ]
  },
  {
   "cell_type": "code",
   "execution_count": null,
   "metadata": {
    "pycharm": {
     "is_executing": true
    }
   },
   "outputs": [],
   "source": [
    "corr_df = pd.DataFrame()\n",
    "\n",
    "for name, group in df.groupby('categoryId'):\n",
    "    corr_df[name] = group.reset_index()['price']\n",
    "\n",
    "c = corr_df.dropna().corr()"
   ]
  },
  {
   "cell_type": "code",
   "execution_count": null,
   "metadata": {
    "pycharm": {
     "is_executing": true
    }
   },
   "outputs": [],
   "source": [
    "# Implemented in https://seaborn.pydata.org/examples/many_pairwise_correlations.html\n",
    "\n",
    "import numpy as np\n",
    "import matplotlib.pyplot as plt\n",
    "import seaborn as sns\n",
    "\n",
    "mask = np.triu(np.ones_like(c, dtype=np.bool))\n",
    "f, ax = plt.subplots(figsize=(11, 9))\n",
    "cmap = sns.diverging_palette(220, 10, as_cmap=True)\n",
    "\n",
    "_ = sns.heatmap(c, mask=mask, cmap=cmap, vmax=.3, center=0, square=True, linewidths=.5, cbar_kws={\"shrink\": .5})\n"
   ]
  },
  {
   "cell_type": "markdown",
   "metadata": {},
   "source": [
    "### Overall Modification Time Distribution\n",
    "\n",
    "Describes products modification time distribution. Plotted data shows that the most product changes\n",
    "appeared at the end of the year."
   ]
  },
  {
   "cell_type": "code",
   "execution_count": null,
   "metadata": {
    "pycharm": {
     "is_executing": true
    }
   },
   "outputs": [],
   "source": [
    "_ = df['modified_time'].hist(**PLOT_CONF, log=True, bins=20, rwidth=0.9)"
   ]
  }
 ],
 "metadata": {
  "kernelspec": {
   "display_name": "Python 3",
   "language": "python",
   "name": "python3"
  },
  "language_info": {
   "codemirror_mode": {
    "name": "ipython",
    "version": 3
   },
   "file_extension": ".py",
   "mimetype": "text/x-python",
   "name": "python",
   "nbconvert_exporter": "python",
   "pygments_lexer": "ipython3",
   "version": "3.7.6"
  }
 },
 "nbformat": 4,
 "nbformat_minor": 4
}